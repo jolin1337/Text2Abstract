{
 "cells": [
  {
   "cell_type": "markdown",
   "metadata": {
    "slideshow": {
     "slide_type": "slide"
    }
   },
   "source": [
    "# Local Auto categorization\n",
    "<hr>\n",
    "<div style=\"background: white\"><img src=\"architecture.png\" style=\"width:50%\"/></div>\n",
    "Locally it is possible to do auto-categorization. To do this it is required to collect data, train the model (optionally validate the model) and use the model to predict categories to any given arbitrary text. As the pictures shows the application consists of two parts, one part is for training an auto-categorization model the other part is a web service that can be hosted anywhere to serve the auto-categorization to any client."
   ]
  },
  {
   "cell_type": "markdown",
   "metadata": {
    "slideshow": {
     "slide_type": "slide"
    }
   },
   "source": [
    "## Collect data\n",
    "To collect the data it is required to set up some environment variables located in .env.sample."
   ]
  },
  {
   "cell_type": "code",
   "execution_count": 1,
   "metadata": {
    "slideshow": {
     "slide_type": "fragment"
    }
   },
   "outputs": [
    {
     "name": "stdout",
     "output_type": "stream",
     "text": [
      "ENV=production\r\n",
      "\r\n",
      "CS_TOKEN=\r\n",
      "CS_URL=\r\n",
      "\r\n",
      "DB_URL=soldr-dev.cdawc3jitldx.eu-west-1.redshift.amazonaws.com\r\n",
      "DB_USER=\r\n",
      "DB_PASSWORD=\r\n",
      "DB_PORT=5439\r\n",
      "DB_NAME=\r\n"
     ]
    }
   ],
   "source": [
    "import sys, os\n",
    "sys.path.insert(0, '../')\n",
    "%cat ../.env.sample"
   ]
  },
  {
   "cell_type": "markdown",
   "metadata": {
    "slideshow": {
     "slide_type": "subslide"
    }
   },
   "source": [
    "### Fetching data from Mittmedia article database\n",
    "The important part about this section of the process is to save a json file in the right format to be used in next steps of training the model. The format should be in the following way:\n",
    "```\n",
    "{\n",
    "  \"articles\": [\n",
    "    {\n",
    "      \"categories\": [\"Sport\", \"Ekonomi\",...],\n",
    "      \"category_ids\": [1,2,....],\n",
    "      \"text\": \"Text to categorize...\",\n",
    "      \"lead\": null,\n",
    "      \"headline\": null\n",
    "    }\n",
    "  ]\n",
    "}\n",
    "```"
   ]
  },
  {
   "cell_type": "code",
   "execution_count": 2,
   "metadata": {},
   "outputs": [],
   "source": [
    "document_data = '../learning/data/notebook_mm_articles.json'"
   ]
  },
  {
   "cell_type": "code",
   "execution_count": 3,
   "metadata": {
    "slideshow": {
     "slide_type": "subslide"
    }
   },
   "outputs": [
    {
     "name": "stderr",
     "output_type": "stream",
     "text": [
      "Using TensorFlow backend.\n",
      "/usr/local/lib/python3.6/dist-packages/tensorflow/python/framework/dtypes.py:516: FutureWarning: Passing (type, 1) or '1type' as a synonym of type is deprecated; in a future version of numpy, it will be understood as (type, (1,)) / '(1,)type'.\n",
      "  _np_qint8 = np.dtype([(\"qint8\", np.int8, 1)])\n",
      "/usr/local/lib/python3.6/dist-packages/tensorflow/python/framework/dtypes.py:517: FutureWarning: Passing (type, 1) or '1type' as a synonym of type is deprecated; in a future version of numpy, it will be understood as (type, (1,)) / '(1,)type'.\n",
      "  _np_quint8 = np.dtype([(\"quint8\", np.uint8, 1)])\n",
      "/usr/local/lib/python3.6/dist-packages/tensorflow/python/framework/dtypes.py:518: FutureWarning: Passing (type, 1) or '1type' as a synonym of type is deprecated; in a future version of numpy, it will be understood as (type, (1,)) / '(1,)type'.\n",
      "  _np_qint16 = np.dtype([(\"qint16\", np.int16, 1)])\n",
      "/usr/local/lib/python3.6/dist-packages/tensorflow/python/framework/dtypes.py:519: FutureWarning: Passing (type, 1) or '1type' as a synonym of type is deprecated; in a future version of numpy, it will be understood as (type, (1,)) / '(1,)type'.\n",
      "  _np_quint16 = np.dtype([(\"quint16\", np.uint16, 1)])\n",
      "/usr/local/lib/python3.6/dist-packages/tensorflow/python/framework/dtypes.py:520: FutureWarning: Passing (type, 1) or '1type' as a synonym of type is deprecated; in a future version of numpy, it will be understood as (type, (1,)) / '(1,)type'.\n",
      "  _np_qint32 = np.dtype([(\"qint32\", np.int32, 1)])\n",
      "/usr/local/lib/python3.6/dist-packages/tensorflow/python/framework/dtypes.py:525: FutureWarning: Passing (type, 1) or '1type' as a synonym of type is deprecated; in a future version of numpy, it will be understood as (type, (1,)) / '(1,)type'.\n",
      "  np_resource = np.dtype([(\"resource\", np.ubyte, 1)])\n",
      "/usr/local/lib/python3.6/dist-packages/tensorboard/compat/tensorflow_stub/dtypes.py:541: FutureWarning: Passing (type, 1) or '1type' as a synonym of type is deprecated; in a future version of numpy, it will be understood as (type, (1,)) / '(1,)type'.\n",
      "  _np_qint8 = np.dtype([(\"qint8\", np.int8, 1)])\n",
      "/usr/local/lib/python3.6/dist-packages/tensorboard/compat/tensorflow_stub/dtypes.py:542: FutureWarning: Passing (type, 1) or '1type' as a synonym of type is deprecated; in a future version of numpy, it will be understood as (type, (1,)) / '(1,)type'.\n",
      "  _np_quint8 = np.dtype([(\"quint8\", np.uint8, 1)])\n",
      "/usr/local/lib/python3.6/dist-packages/tensorboard/compat/tensorflow_stub/dtypes.py:543: FutureWarning: Passing (type, 1) or '1type' as a synonym of type is deprecated; in a future version of numpy, it will be understood as (type, (1,)) / '(1,)type'.\n",
      "  _np_qint16 = np.dtype([(\"qint16\", np.int16, 1)])\n",
      "/usr/local/lib/python3.6/dist-packages/tensorboard/compat/tensorflow_stub/dtypes.py:544: FutureWarning: Passing (type, 1) or '1type' as a synonym of type is deprecated; in a future version of numpy, it will be understood as (type, (1,)) / '(1,)type'.\n",
      "  _np_quint16 = np.dtype([(\"quint16\", np.uint16, 1)])\n",
      "/usr/local/lib/python3.6/dist-packages/tensorboard/compat/tensorflow_stub/dtypes.py:545: FutureWarning: Passing (type, 1) or '1type' as a synonym of type is deprecated; in a future version of numpy, it will be understood as (type, (1,)) / '(1,)type'.\n",
      "  _np_qint32 = np.dtype([(\"qint32\", np.int32, 1)])\n",
      "/usr/local/lib/python3.6/dist-packages/tensorboard/compat/tensorflow_stub/dtypes.py:550: FutureWarning: Passing (type, 1) or '1type' as a synonym of type is deprecated; in a future version of numpy, it will be understood as (type, (1,)) / '(1,)type'.\n",
      "  np_resource = np.dtype([(\"resource\", np.ubyte, 1)])\n"
     ]
    }
   ],
   "source": [
    "from learning.mm_services import fetch_data\n",
    "# fetch_data.main(document_data)"
   ]
  },
  {
   "cell_type": "code",
   "execution_count": 4,
   "metadata": {
    "slideshow": {
     "slide_type": "skip"
    }
   },
   "outputs": [
    {
     "data": {
      "text/plain": [
       "{'Väder': 4459,\n",
       " 'Miljö': 1908,\n",
       " 'Livsstil & fritid': 3727,\n",
       " 'Politik': 7076,\n",
       " 'Ekonomi, näringsliv & finans': 17327,\n",
       " 'Kultur & nöje': 6256,\n",
       " 'Vetenskap & teknologi': 525,\n",
       " 'Olyckor & katastrofer': 5169,\n",
       " 'Personligt': 3769,\n",
       " 'Skola & utbildning': 2284,\n",
       " 'Brott & straff': 9221,\n",
       " 'Samhälle & välfärd': 7787,\n",
       " 'Arbetsmarknad': 1424,\n",
       " 'Hälsa & sjukvård': 2752,\n",
       " 'Sport': 21551}"
      ]
     },
     "execution_count": 4,
     "metadata": {},
     "output_type": "execute_result"
    }
   ],
   "source": [
    "{'Väder': 4459, 'Miljö': 1908, 'Livsstil & fritid': 3727, 'Politik': 7076, 'Ekonomi, näringsliv & finans': 17327, 'Kultur & nöje': 6256, 'Vetenskap & teknologi': 525, 'Olyckor & katastrofer': 5169, 'Personligt': 3769, 'Skola & utbildning': 2284, 'Brott & straff': 9221, 'Samhälle & välfärd': 7787, 'Arbetsmarknad': 1424, 'Hälsa & sjukvård': 2752, 'Sport': 21551}"
   ]
  },
  {
   "cell_type": "markdown",
   "metadata": {
    "slideshow": {
     "slide_type": "slide"
    }
   },
   "source": [
    "## Train the model\n",
    "This section will show all steps to take to train the model for auto-categorization (e.g. configuration and training)."
   ]
  },
  {
   "cell_type": "markdown",
   "metadata": {
    "slideshow": {
     "slide_type": "subslide"
    }
   },
   "source": [
    "### Configuration\n",
    "To be able to train the model some configuration has to be made. Deciding where the models are stored and where training data is read among other model hyper parameters can be tweaked in a yaml file in `config/` folder. For demonstration purposes we will overwrite these settings in the notebook to enable full cusomization while experimenting."
   ]
  },
  {
   "cell_type": "code",
   "execution_count": 5,
   "metadata": {
    "slideshow": {
     "slide_type": "subslide"
    }
   },
   "outputs": [],
   "source": [
    "os.environ['ENV'] = '../notebook-model-config'\n",
    "import learning.config"
   ]
  },
  {
   "cell_type": "code",
   "execution_count": 6,
   "metadata": {
    "slideshow": {
     "slide_type": "fragment"
    }
   },
   "outputs": [],
   "source": [
    "learning.config.model = {\n",
    "    'path': '../learning/trained-models/',\n",
    "    'vec_model': {\n",
    "        'name': 'gensim_models/word2vec_MM_new_category_tree.model',\n",
    "        'type': 'word2vec',\n",
    "        'train': True\n",
    "    },\n",
    "    'categorization_model': {\n",
    "        'name': 'lstm-multi-categorizer-new-category-tree.model',\n",
    "        'type': 'blstm',\n",
    "        'model_checkpoint': False\n",
    "    }\n",
    "}\n",
    "learning.config.data = {\n",
    "    'path': os.path.dirname(document_data) + '/',\n",
    "    'articles': os.path.basename(document_data),\n",
    "    'target_categories': 'new_top_categories.txt',\n",
    "    'stop_words': 'stop_words.txt'\n",
    "}\n",
    "learning.config.verbose = True"
   ]
  },
  {
   "cell_type": "markdown",
   "metadata": {
    "slideshow": {
     "slide_type": "slide"
    }
   },
   "source": [
    "Training the model is done with a simple function call to the module. In the background this function will train word/document vectors (if specified in configuration). The function will then filter out articles from the fetched ones such that we have equal amount of articles per category label before mapping the texts to input-vectors."
   ]
  },
  {
   "cell_type": "code",
   "execution_count": 7,
   "metadata": {
    "slideshow": {
     "slide_type": "fragment"
    }
   },
   "outputs": [],
   "source": [
    "from learning import model"
   ]
  },
  {
   "cell_type": "code",
   "execution_count": 8,
   "metadata": {
    "slideshow": {
     "slide_type": "fragment"
    }
   },
   "outputs": [],
   "source": [
    "# model.train_and_store_model()"
   ]
  },
  {
   "cell_type": "markdown",
   "metadata": {
    "slideshow": {
     "slide_type": "slide"
    }
   },
   "source": [
    "## Use the trained model\n",
    "Now that we have the trained model we can use it in an practical example by first load the model from disk and then get a text from anywhere to predict a category on."
   ]
  },
  {
   "cell_type": "code",
   "execution_count": 9,
   "metadata": {
    "slideshow": {
     "slide_type": "subslide"
    }
   },
   "outputs": [
    {
     "name": "stdout",
     "output_type": "stream",
     "text": [
      "WARNING:tensorflow:From /usr/local/lib/python3.6/dist-packages/keras/backend/tensorflow_backend.py:66: The name tf.get_default_graph is deprecated. Please use tf.compat.v1.get_default_graph instead.\n",
      "\n",
      "WARNING:tensorflow:From /usr/local/lib/python3.6/dist-packages/keras/backend/tensorflow_backend.py:541: The name tf.placeholder is deprecated. Please use tf.compat.v1.placeholder instead.\n",
      "\n",
      "WARNING:tensorflow:From /usr/local/lib/python3.6/dist-packages/keras/backend/tensorflow_backend.py:4432: The name tf.random_uniform is deprecated. Please use tf.random.uniform instead.\n",
      "\n",
      "WARNING:tensorflow:From /usr/local/lib/python3.6/dist-packages/keras/backend/tensorflow_backend.py:148: The name tf.placeholder_with_default is deprecated. Please use tf.compat.v1.placeholder_with_default instead.\n",
      "\n",
      "WARNING:tensorflow:From /usr/local/lib/python3.6/dist-packages/keras/backend/tensorflow_backend.py:3733: calling dropout (from tensorflow.python.ops.nn_ops) with keep_prob is deprecated and will be removed in a future version.\n",
      "Instructions for updating:\n",
      "Please use `rate` instead of `keep_prob`. Rate should be set to `rate = 1 - keep_prob`.\n",
      "WARNING:tensorflow:From /usr/local/lib/python3.6/dist-packages/keras/backend/tensorflow_backend.py:4267: The name tf.nn.max_pool is deprecated. Please use tf.nn.max_pool2d instead.\n",
      "\n",
      "WARNING:tensorflow:From /usr/local/lib/python3.6/dist-packages/keras/backend/tensorflow_backend.py:190: The name tf.get_default_session is deprecated. Please use tf.compat.v1.get_default_session instead.\n",
      "\n",
      "Loaded model with Allsvenskan,Trav,Elitettan,Division 6 herr,Livsstil & fritid,Fotboll,Bilsport,Hockeyettan,Elitserien herr,Bowling,Sport,Skidåkning,Division 1,Division 2 dam,Innebandy,Division 1 herr,Sporter,SHL,Superettan,SDHL,Division 2 herr,Elitserien,Hockeytrean,Division 3 dam,Speedway,Hockeyallsvenskan,Division 1 dam,Basket,Bandy,Division 5 herr,Friidrott,Ishockey,Handboll,Södra Norrland,Division 4 herr,Motorcykelsport,Längdskidåkning,Hockeytvåan,Norra,Mellersta Norrland,Division 3 herr categories\n"
     ]
    }
   ],
   "source": [
    "input_file = learning.config.model['categorization_model']['name']\n",
    "predictor = model.BLSTMCategorizer(input_file, '../learning/trained-models/lstm-multi-categorizer-new-category-tree.model')"
   ]
  },
  {
   "cell_type": "code",
   "execution_count": 10,
   "metadata": {
    "slideshow": {
     "slide_type": "fragment"
    }
   },
   "outputs": [
    {
     "data": {
      "text/plain": [
       "[('Division 5 herr', 1.1749807526939549e-06),\n",
       " ('Division 6 herr', 1.5709370018157642e-06),\n",
       " ('Hockeytrean', 2.2633578282693634e-06),\n",
       " ('Division 2 dam', 4.693012215284398e-06),\n",
       " ('Division 3 dam', 5.870311269973172e-06),\n",
       " ('Trav', 8.229661034420133e-06),\n",
       " ('Bowling', 8.985126441984903e-06),\n",
       " ('Hockeytvåan', 1.2494234397308901e-05),\n",
       " ('Friidrott', 2.3745054932078347e-05),\n",
       " ('Mellersta Norrland', 3.018754614458885e-05),\n",
       " ('Division 1', 4.6757166273891926e-05),\n",
       " ('Elitettan', 5.294038783176802e-05),\n",
       " ('Basket', 5.334807065082714e-05),\n",
       " ('SDHL', 5.77784885535948e-05),\n",
       " ('Bilsport', 9.30681053432636e-05),\n",
       " ('Handboll', 0.00011511090269777924),\n",
       " ('Hockeyettan', 0.0002134857204509899),\n",
       " ('Längdskidåkning', 0.00022847694344818592),\n",
       " ('Division 4 herr', 0.0002521077112760395),\n",
       " ('Livsstil & fritid', 0.0002879078092519194),\n",
       " ('Innebandy', 0.0002941703423857689),\n",
       " ('Division 1 dam', 0.0002958025725092739),\n",
       " ('Division 2 herr', 0.0004995414055883884),\n",
       " ('Skidåkning', 0.000755502434913069),\n",
       " ('Södra Norrland', 0.0007802402833476663),\n",
       " ('Norra', 0.0008070509065873921),\n",
       " ('Division 3 herr', 0.0010722852312028408),\n",
       " ('Speedway', 0.0011097067035734653),\n",
       " ('Division 1 herr', 0.0011987237958237529),\n",
       " ('Sporter', 0.0012102196924388409),\n",
       " ('Sport', 0.0012471413938328624),\n",
       " ('Fotboll', 0.0014633133541792631),\n",
       " ('Motorcykelsport', 0.0015177703462541103),\n",
       " ('Ishockey', 0.002424640813842416),\n",
       " ('SHL', 0.0066698575392365456),\n",
       " ('Hockeyallsvenskan', 0.012805704958736897),\n",
       " ('Superettan', 0.02595987357199192),\n",
       " ('Elitserien', 0.09653490036725998),\n",
       " ('Elitserien herr', 0.1293189823627472),\n",
       " ('Bandy', 0.23469091951847076),\n",
       " ('Allsvenskan', 0.4778434634208679)]"
      ]
     },
     "execution_count": 10,
     "metadata": {},
     "output_type": "execute_result"
    }
   ],
   "source": [
    "text = \"De allsvenska tränarna och även en hel del spelarprofiler samlades på Idrottens hus i Stockholm för en första historisk upptaktsträff. Och mycket fokus hamnade naturligtvis på frågan om vilket lag som förväntas ha bäst chanser att vinna serien och ta direktplatsen till elitserien. Men i det traditionsenliga förhandstipset var tränarna inte särskilt överens. Tre lag – Ljusdal, Nässjö och Örebro trodde på sig själva. Och det är också en trio som med stor sannolikhet kommer att vara med i toppen av tabellen. Nässjö fick flest röster – sex stycken. Och tränaren Patrik Gustafsson Thulin fick också frågan hur det kändes att pekas ut som favoriter. – Det är jättekul. Det är ett kvitto på att vi gör många saker som är bra och som motståndarlagen är jobbiga. Då är vi på rätt väg. Föreningen förbereder sig också att vi ska vara redo om vi tar steget upp, säger han. LÄS MER: Vi sände den historiska upptaktsträffen för allsvenskan – se reprisen Det snackades också rätt mycket om Ljusdal (fyra röster) som spelade senast i elitserien säsongen 2013/14. Nu hoppas allsvenskans nordligaste klubb på att ta ännu ett kliv. – Vi har en tydlig målsättning vad vi vill och det är att ta oss tillbaka till elitserien. Jag tycker det känns bra. Det är kanske lite logiskt hur historien hur det har varit de senaste åren. Vi var väldigt nära förra säsongen. Ofta räcker det med åtta poäng i en kvalserie, men inte då, säger tränaren Patrik Larsson. Falun fick tre röster, Örebro två och Gripen en. – Klubben har inget uttalat mål om elitserien. Men vi jobbar på alla fronter för det. Vi har varit i två kval under de tre senaste säsonger och vi har lärt oss mycket av. Vi vet inte så mycket om söderlagen. Men Nässjö ser starka ut både på papperet och resultatmässig under försäsongen, säger Niclas Groth, tränare tillsammans med Joakim Forslund i Falu BS. Bandypuls har tidigare berättat om det nya serieupplägget. De är hela 16 lag som får plats i den första upplagan av superallsvenskan som består av två pooler – en med åtta söderlag och en med två norrlag. I respektive pool möts alla lag två gånger och därefter blir det enkelmöten med lag från andra poolen. Ettan spelar i elitserien nästa säsong och tvåan och trean får kvala.\"\n",
    "predictor.categorize_text([text])"
   ]
  },
  {
   "cell_type": "markdown",
   "metadata": {
    "slideshow": {
     "slide_type": "slide"
    }
   },
   "source": [
    "### Use the trained model 2\n",
    "Another way to do it is by starting the server and do a request"
   ]
  },
  {
   "cell_type": "code",
   "execution_count": 11,
   "metadata": {
    "slideshow": {
     "slide_type": "subslide"
    }
   },
   "outputs": [],
   "source": [
    "%%capture\n",
    "import web.app\n",
    "import multiprocessing\n",
    "import requests\n",
    "app_process = multiprocessing.Process(target=lambda: web.app.app.run(host='0.0.0.0', port=8080))"
   ]
  },
  {
   "cell_type": "code",
   "execution_count": 12,
   "metadata": {
    "scrolled": true,
    "slideshow": {
     "slide_type": "fragment"
    }
   },
   "outputs": [
    {
     "name": "stdout",
     "output_type": "stream",
     "text": [
      " * Serving Flask app \"web.app\" (lazy loading)\n",
      " * Debug mode: off\n",
      " * Environment: production\n",
      "   WARNING: This is a development server. Do not use it in a production deployment.\n",
      "   Use a production WSGI server instead.\n"
     ]
    },
    {
     "name": "stderr",
     "output_type": "stream",
     "text": [
      " * Running on http://0.0.0.0:8080/ (Press CTRL+C to quit)\n",
      "127.0.0.1 - - [28/Oct/2019 13:48:02] \"\u001b[37mGET /ping HTTP/1.1\u001b[0m\" 200 -\n"
     ]
    }
   ],
   "source": [
    "app_process.start()"
   ]
  },
  {
   "cell_type": "code",
   "execution_count": 13,
   "metadata": {
    "slideshow": {
     "slide_type": "fragment"
    }
   },
   "outputs": [
    {
     "data": {
      "text/plain": [
       "'\\n'"
      ]
     },
     "execution_count": 13,
     "metadata": {},
     "output_type": "execute_result"
    }
   ],
   "source": [
    "requests.get('http://localhost:8080/ping').text"
   ]
  },
  {
   "cell_type": "markdown",
   "metadata": {
    "slideshow": {
     "slide_type": "subslide"
    }
   },
   "source": [
    "Then do a request to the app with something like the following structure"
   ]
  },
  {
   "cell_type": "code",
   "execution_count": null,
   "metadata": {
    "slideshow": {
     "slide_type": "fragment"
    }
   },
   "outputs": [],
   "source": [
    "document = {\n",
    "    'body': text,\n",
    "    'categories2': None,\n",
    "    'uuid': None\n",
    "}\n",
    "url = 'http://localhost:8080/invocations'\n",
    "requests.post(url, json=document).text"
   ]
  },
  {
   "cell_type": "markdown",
   "metadata": {
    "slideshow": {
     "slide_type": "subslide"
    }
   },
   "source": [
    "### Stop the server"
   ]
  },
  {
   "cell_type": "code",
   "execution_count": null,
   "metadata": {
    "slideshow": {
     "slide_type": "fragment"
    }
   },
   "outputs": [],
   "source": [
    "# app_process.terminate()\n",
    "# app_process.join()"
   ]
  },
  {
   "cell_type": "code",
   "execution_count": null,
   "metadata": {},
   "outputs": [],
   "source": []
  }
 ],
 "metadata": {
  "celltoolbar": "Slideshow",
  "kernelspec": {
   "display_name": "Python 3",
   "language": "python",
   "name": "python3"
  },
  "language_info": {
   "codemirror_mode": {
    "name": "ipython",
    "version": 3
   },
   "file_extension": ".py",
   "mimetype": "text/x-python",
   "name": "python",
   "nbconvert_exporter": "python",
   "pygments_lexer": "ipython3",
   "version": "3.6.8"
  },
  "pycharm": {
   "stem_cell": {
    "cell_type": "raw",
    "metadata": {
     "collapsed": false
    },
    "source": []
   }
  }
 },
 "nbformat": 4,
 "nbformat_minor": 2
}
