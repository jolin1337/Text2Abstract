{
 "cells": [
  {
   "cell_type": "markdown",
   "metadata": {
    "slideshow": {
     "slide_type": "slide"
    }
   },
   "source": [
    "# Local Auto categorization\n",
    "<hr>\n",
    "<div style=\"background: white\"><img src=\"architecture.png\" style=\"width:50%\"/></div>\n",
    "Locally it is possible to do auto-categorization. To do this it is required to collect data, train the model (optionally validate the model) and use the model to predict categories to any given arbitrary text. As the pictures shows the application consists of two parts, one part is for training an auto-categorization model the other part is a web service that can be hosted anywhere to serve the auto-categorization to any client."
   ]
  },
  {
   "cell_type": "markdown",
   "metadata": {
    "slideshow": {
     "slide_type": "slide"
    }
   },
   "source": [
    "## Collect data\n",
    "To collect the data it is required to set up some environment variables located in .env.sample."
   ]
  },
  {
   "cell_type": "code",
   "execution_count": 1,
   "metadata": {
    "slideshow": {
     "slide_type": "fragment"
    }
   },
   "outputs": [
    {
     "name": "stdout",
     "output_type": "stream",
     "text": [
      "ENV=production\r\n",
      "\r\n",
      "CS_TOKEN=\r\n",
      "CS_URL=\r\n",
      "\r\n",
      "DB_URL=soldr-dev.cdawc3jitldx.eu-west-1.redshift.amazonaws.com\r\n",
      "DB_USER=\r\n",
      "DB_PASSWORD=\r\n",
      "DB_PORT=5439\r\n",
      "DB_NAME=\r\n"
     ]
    }
   ],
   "source": [
    "import sys, os\n",
    "sys.path.insert(0, '../')\n",
    "%cat ../.env.sample"
   ]
  },
  {
   "cell_type": "markdown",
   "metadata": {
    "slideshow": {
     "slide_type": "subslide"
    }
   },
   "source": [
    "### Fetching data from Mittmedia article database\n",
    "The important part about this section of the process is to save a json file in the right format to be used in next steps of training the model. The format should be in the following way:\n",
    "```\n",
    "{\n",
    "  \"articles\": [\n",
    "    {\n",
    "      \"categories\": [\"Sport\", \"Ekonomi\",...],\n",
    "      \"category_ids\": [1,2,....],\n",
    "      \"text\": \"Text to categorize...\",\n",
    "      \"lead\": null,\n",
    "      \"headline\": null\n",
    "    }\n",
    "  ]\n",
    "}\n",
    "```"
   ]
  },
  {
   "cell_type": "code",
   "execution_count": 2,
   "metadata": {},
   "outputs": [],
   "source": [
    "document_data = '../learning/data/notebook_mm_articles.json'"
   ]
  },
  {
   "cell_type": "code",
   "execution_count": 3,
   "metadata": {
    "slideshow": {
     "slide_type": "subslide"
    }
   },
   "outputs": [
    {
     "name": "stderr",
     "output_type": "stream",
     "text": [
      "/home/johlin/Documents/Projects/auto-categorizer/venv/lib/python3.5/site-packages/psycopg2/__init__.py:144: UserWarning: The psycopg2 wheel package will be renamed from release 2.8; in order to keep installing from binary please use \"pip install psycopg2-binary\" instead. For details see: <http://initd.org/psycopg/docs/install.html#binary-install-from-pypi>.\n",
      "  \"\"\")\n",
      "/usr/lib/python3.5/importlib/_bootstrap.py:222: RuntimeWarning: numpy.dtype size changed, may indicate binary incompatibility. Expected 96, got 88\n",
      "  return f(*args, **kwds)\n",
      "Using TensorFlow backend.\n",
      "/usr/lib/python3.5/importlib/_bootstrap.py:222: RuntimeWarning: numpy.dtype size changed, may indicate binary incompatibility. Expected 96, got 88\n",
      "  return f(*args, **kwds)\n",
      "/usr/lib/python3.5/importlib/_bootstrap.py:222: RuntimeWarning: numpy.dtype size changed, may indicate binary incompatibility. Expected 96, got 88\n",
      "  return f(*args, **kwds)\n",
      "/usr/lib/python3.5/importlib/_bootstrap.py:222: RuntimeWarning: numpy.dtype size changed, may indicate binary incompatibility. Expected 96, got 88\n",
      "  return f(*args, **kwds)\n"
     ]
    },
    {
     "name": "stdout",
     "output_type": "stream",
     "text": [
      "defaultdict(<class 'int'>, {'Väder': 4459, 'Politik': 7076, 'Arbetsmarknad': 1424, 'Kultur & nöje': 6256, 'Vetenskap & teknologi': 525, 'Brott & straff': 9221, 'Personligt': 3769, 'Skola & utbildning': 2284, 'Ekonomi, näringsliv & finans': 17327, 'Samhälle & välfärd': 7787, 'Hälsa & sjukvård': 2752, 'Olyckor & katastrofer': 5169, 'Sport': 21551, 'Livsstil & fritid': 3727, 'Miljö': 1908})\n"
     ]
    }
   ],
   "source": [
    "from learning.mm_services import fetch_data\n",
    "fetch_data.main(document_data)"
   ]
  },
  {
   "cell_type": "code",
   "execution_count": 4,
   "metadata": {
    "slideshow": {
     "slide_type": "skip"
    }
   },
   "outputs": [
    {
     "data": {
      "text/plain": [
       "{'Arbetsmarknad': 1424,\n",
       " 'Brott & straff': 9221,\n",
       " 'Ekonomi, näringsliv & finans': 17327,\n",
       " 'Hälsa & sjukvård': 2752,\n",
       " 'Kultur & nöje': 6256,\n",
       " 'Livsstil & fritid': 3727,\n",
       " 'Miljö': 1908,\n",
       " 'Olyckor & katastrofer': 5169,\n",
       " 'Personligt': 3769,\n",
       " 'Politik': 7076,\n",
       " 'Samhälle & välfärd': 7787,\n",
       " 'Skola & utbildning': 2284,\n",
       " 'Sport': 21551,\n",
       " 'Vetenskap & teknologi': 525,\n",
       " 'Väder': 4459}"
      ]
     },
     "execution_count": 4,
     "metadata": {},
     "output_type": "execute_result"
    }
   ],
   "source": [
    "{'Väder': 4459, 'Miljö': 1908, 'Livsstil & fritid': 3727, 'Politik': 7076, 'Ekonomi, näringsliv & finans': 17327, 'Kultur & nöje': 6256, 'Vetenskap & teknologi': 525, 'Olyckor & katastrofer': 5169, 'Personligt': 3769, 'Skola & utbildning': 2284, 'Brott & straff': 9221, 'Samhälle & välfärd': 7787, 'Arbetsmarknad': 1424, 'Hälsa & sjukvård': 2752, 'Sport': 21551}"
   ]
  },
  {
   "cell_type": "markdown",
   "metadata": {
    "slideshow": {
     "slide_type": "slide"
    }
   },
   "source": [
    "## Train the model\n",
    "This section will show all steps to take to train the model for auto-categorization (e.g. configuration and training)."
   ]
  },
  {
   "cell_type": "markdown",
   "metadata": {
    "slideshow": {
     "slide_type": "subslide"
    }
   },
   "source": [
    "### Configuration\n",
    "To be able to train the model some configuration has to be made. Deciding where the models are stored and where training data is read among other model hyper parameters can be tweaked in a yaml file in `config/` folder. For demonstration purposes we will overwrite these settings in the notebook to enable full cusomization while experimenting."
   ]
  },
  {
   "cell_type": "code",
   "execution_count": 7,
   "metadata": {
    "slideshow": {
     "slide_type": "subslide"
    }
   },
   "outputs": [],
   "source": [
    "os.environ['ENV'] = '../notebook-model-config'\n",
    "import learning.config"
   ]
  },
  {
   "cell_type": "code",
   "execution_count": 11,
   "metadata": {
    "slideshow": {
     "slide_type": "fragment"
    }
   },
   "outputs": [],
   "source": [
    "learning.config.model = {\n",
    "    'path': '../learning/trained-models/',\n",
    "    'vec_model': {\n",
    "        'name': 'gensim_models/word2vec_MM_new_category_tree.model',\n",
    "        'type': 'word2vec',\n",
    "        'train': True\n",
    "    },\n",
    "    'categorization_model': {\n",
    "        'name': 'lstm-multi-categorizer-new-category-tree.model',\n",
    "        'type': 'blstm',\n",
    "        'model_checkpoint': False,\n",
    "        'use_ner': False\n",
    "    }\n",
    "}\n",
    "learning.config.data = {\n",
    "    'path': os.path.dirname(document_data) + '/',\n",
    "    'articles': os.path.basename(document_data),\n",
    "    'target_categories': 'new_top_categories.txt',\n",
    "    'stop_words': 'stop_words.txt'\n",
    "}\n",
    "learning.config.verbose = True"
   ]
  },
  {
   "cell_type": "markdown",
   "metadata": {
    "slideshow": {
     "slide_type": "slide"
    }
   },
   "source": [
    "Training the model is done with a simple function call to the module. In the background this function will train word/document vectors (if specified in configuration). The function will then filter out articles from the fetched ones such that we have equal amount of articles per category label before mapping the texts to input-vectors."
   ]
  },
  {
   "cell_type": "code",
   "execution_count": 9,
   "metadata": {
    "slideshow": {
     "slide_type": "fragment"
    }
   },
   "outputs": [
    {
     "name": "stderr",
     "output_type": "stream",
     "text": [
      "/usr/lib/python3.5/importlib/_bootstrap.py:222: RuntimeWarning: numpy.dtype size changed, may indicate binary incompatibility. Expected 96, got 88\n",
      "  return f(*args, **kwds)\n",
      "/usr/lib/python3.5/importlib/_bootstrap.py:222: RuntimeWarning: numpy.dtype size changed, may indicate binary incompatibility. Expected 96, got 88\n",
      "  return f(*args, **kwds)\n"
     ]
    }
   ],
   "source": [
    "from learning import model"
   ]
  },
  {
   "cell_type": "code",
   "execution_count": 14,
   "metadata": {
    "slideshow": {
     "slide_type": "fragment"
    }
   },
   "outputs": [
    {
     "name": "stdout",
     "output_type": "stream",
     "text": [
      "Numer of articles: 16975\n",
      "Counter({'Brott & straff': 1862, 'Väder': 1862, 'Personligt': 1862, 'Kultur & nöje': 1862, 'Politik': 1862, 'Ekonomi, näringsliv & finans': 1862, 'Samhälle & välfärd': 1862, 'Livsstil & fritid': 1862, 'Olyckor & katastrofer': 1862, 'Sport': 1862})\n",
      "Train vec model\n",
      "Saved 0 documents\n",
      "Saved 1000 documents\n",
      "Saved 2000 documents\n",
      "Saved 3000 documents\n",
      "Saved 4000 documents\n",
      "Saved 5000 documents\n",
      "Saved 6000 documents\n",
      "Saved 7000 documents\n",
      "Saved 8000 documents\n",
      "Saved 9000 documents\n",
      "Saved 10000 documents\n",
      "Saved 11000 documents\n",
      "Saved 12000 documents\n",
      "Saved 13000 documents\n",
      "Saved 14000 documents\n",
      "Saved 15000 documents\n",
      "Train categorization model\n",
      "Preprocess text\n",
      "Done preprocessing data\n",
      "Labels:  ['Väder', 'Politik', 'Kultur & nöje', 'Brott & straff', 'Personligt', 'Ekonomi, näringsliv & finans', 'Samhälle & välfärd', 'Livsstil & fritid', 'Olyckor & katastrofer', 'Sport']\n",
      "Train on 13747 samples, validate on 1528 samples\n",
      "Epoch 1/1\n",
      "13747/13747 [==============================] - 252s 18ms/step - loss: 1.2741 - acc: 0.6214 - f1_score: 0.5742 - val_loss: 1.3234 - val_acc: 0.6361 - val_f1_score: 0.6194\n",
      "Evaluate model\n",
      "Loaded model with Väder,Politik,Kultur & nöje,Brott & straff,Personligt,Ekonomi, näringsliv & finans,Samhälle & välfärd,Livsstil & fritid,Olyckor & katastrofer,Sport categories\n",
      "Preprocess text\n",
      "1697/1697 [==============================] - 12s 7ms/step\n",
      "{'f1_score': 0.6463394496605266, 'acc': 0.9368886238487595, 'loss': 0.17282647317693595}\n",
      "Accuracy 0.680613\n",
      "                              Väder  Politik  Kultur & nöje  Brott & straff  Personligt  Ekonomi, näringsliv & finans  Samhälle & välfärd  Livsstil & fritid  Olyckor & katastrofer  Sport     sum\n",
      "Väder                         177.0      0.0            0.0             0.0         0.0                           0.0                 0.0                1.0                    0.0    0.0   178.0\n",
      "Politik                         2.0    157.0           40.0             7.0        25.0                          27.0                69.0               57.0                    4.0   12.0   400.0\n",
      "Kultur & nöje                   0.0      0.0           95.0             0.0        32.0                           0.0                 2.0               17.0                    0.0    1.0   147.0\n",
      "Brott & straff                  0.0      1.0            1.0           147.0         3.0                           0.0                 3.0                5.0                   12.0    0.0   172.0\n",
      "Personligt                      1.0      1.0           18.0             1.0        59.0                           3.0                 2.0                7.0                    0.0    2.0    94.0\n",
      "Ekonomi, näringsliv & finans    0.0      0.0            1.0             0.0         1.0                         125.0                 0.0                5.0                    0.0    0.0   132.0\n",
      "Samhälle & välfärd             16.0     15.0           18.0            11.0        35.0                           6.0                40.0               33.0                   11.0    1.0   186.0\n",
      "Livsstil & fritid               1.0      0.0            3.0             2.0         1.0                           1.0                 0.0               20.0                    0.0    2.0    30.0\n",
      "Olyckor & katastrofer           1.0      0.0            0.0            15.0         1.0                           1.0                14.0                1.0                  137.0    0.0   170.0\n",
      "Sport                           0.0      0.0            5.0             0.0         1.0                           0.0                 1.0               13.0                    0.0  168.0   188.0\n",
      "sum                           198.0    174.0          181.0           183.0       158.0                         163.0               131.0              159.0                  164.0  186.0  1697.0\n"
     ]
    }
   ],
   "source": [
    "model.train_and_store_model()"
   ]
  },
  {
   "cell_type": "markdown",
   "metadata": {
    "slideshow": {
     "slide_type": "slide"
    }
   },
   "source": [
    "## Use the trained model\n",
    "Now that we have the trained model we can use it in an practical example by first load the model from disk and then get a text from anywhere to predict a category on."
   ]
  },
  {
   "cell_type": "code",
   "execution_count": 9,
   "metadata": {
    "slideshow": {
     "slide_type": "subslide"
    }
   },
   "outputs": [],
   "source": [
    "input_file = learning.config.model['categorization_model']['name']\n",
    "predictor = model.Categorizer(input_file, output_file)"
   ]
  },
  {
   "cell_type": "code",
   "execution_count": 10,
   "metadata": {
    "slideshow": {
     "slide_type": "fragment"
    }
   },
   "outputs": [
    {
     "data": {
      "text/plain": [
       "[{'Brott & straff': 0.11368835717439651,\n",
       "  'Ekonomi, näringsliv & finans': 0.09369084984064102,\n",
       "  'Kultur & nöje': 0.10835012048482895,\n",
       "  'Livsstil & fritid': 0.10954376310110092,\n",
       "  'Olyckor & katastrofer': 0.10778261721134186,\n",
       "  'Personligt': 0.10724756866693497,\n",
       "  'Politik': 0.11925984919071198,\n",
       "  'Samhälle & välfärd': 0.11229677498340607,\n",
       "  'Sport': 0.09329316020011902,\n",
       "  'Väder': 0.03484699875116348}]"
      ]
     },
     "execution_count": 10,
     "metadata": {},
     "output_type": "execute_result"
    }
   ],
   "source": [
    "text = \"Nu börjar en fullskalig strejk för alla som är medlemmar i Hamnarbetarförbundet i Sundsvalls hamn och vid många andra hamnar i Sverige.\\n\\nHamnarbetarförbundets syfte med strejken är att få igenom ett rikstäckande kollektivavtal med arbetsgivarorganisationen Sveriges Hamnar.\\n\\n– 90 procent av allt fackligt arbete sker lokalt, det känns som en självklarhet att det ska finnas kollektivavtal för våra medlemmar, säger Henrik Henriksson.\\n\\nMen arbetsgivarorganisationen menar att det redan finns ett kollektivavtal tecknat med Transportarbetareförbundet och de vill erbjuda samma avtal till Hamnarbetarförbundets medlemmar.\\n\\n– Det finns redan ett kollektivavtal, det är inte rätt att arbetare på samma arbetsplats kan ha olika villkor, säger Björn Lyngfelt, kommunikationsdirektör på SCA.\\\"\\\"\\\"\\n\"\n",
    "predictor.categorize_text([text])"
   ]
  },
  {
   "cell_type": "markdown",
   "metadata": {
    "slideshow": {
     "slide_type": "slide"
    }
   },
   "source": [
    "### Use the trained model 2\n",
    "Another way to do it is by starting the server and do a request"
   ]
  },
  {
   "cell_type": "code",
   "execution_count": 11,
   "metadata": {
    "slideshow": {
     "slide_type": "subslide"
    }
   },
   "outputs": [],
   "source": [
    "%%capture\n",
    "import web.app\n",
    "import multiprocessing\n",
    "import requests\n",
    "app_process = multiprocessing.Process(target=lambda: web.app.app.run(host='0.0.0.0', port=8080))"
   ]
  },
  {
   "cell_type": "code",
   "execution_count": 12,
   "metadata": {
    "slideshow": {
     "slide_type": "fragment"
    }
   },
   "outputs": [
    {
     "name": "stdout",
     "output_type": "stream",
     "text": [
      " * Serving Flask app \"web.app\" (lazy loading)\n",
      " * Environment: production\n",
      "   WARNING: Do not use the development server in a production environment.\n",
      "   Use a production WSGI server instead.\n",
      " * Debug mode: off\n"
     ]
    },
    {
     "name": "stderr",
     "output_type": "stream",
     "text": [
      " * Running on http://0.0.0.0:8080/ (Press CTRL+C to quit)\n"
     ]
    }
   ],
   "source": [
    "app_process.start()"
   ]
  },
  {
   "cell_type": "code",
   "execution_count": 13,
   "metadata": {
    "slideshow": {
     "slide_type": "fragment"
    }
   },
   "outputs": [
    {
     "data": {
      "text/plain": [
       "'\\n'"
      ]
     },
     "execution_count": 13,
     "metadata": {},
     "output_type": "execute_result"
    }
   ],
   "source": [
    "requests.get('http://localhost:8080/ping').text"
   ]
  },
  {
   "cell_type": "markdown",
   "metadata": {
    "slideshow": {
     "slide_type": "subslide"
    }
   },
   "source": [
    "Then do a request to the app with something like the following structure"
   ]
  },
  {
   "cell_type": "code",
   "execution_count": 14,
   "metadata": {
    "slideshow": {
     "slide_type": "fragment"
    }
   },
   "outputs": [
    {
     "data": {
      "text/plain": [
       "'{\"entities\": [], \"categories\": {\"Personligt\": 0.10819830745458603, \"Sport\": 0.07992172986268997, \"Kultur & n\\\\u00f6je\": 0.11247000098228455, \"Samh\\\\u00e4lle & v\\\\u00e4lf\\\\u00e4rd\": 0.11142752319574356, \"Brott & straff\": 0.11764025688171387, \"V\\\\u00e4der\": 0.03385605290532112, \"Ekonomi, n\\\\u00e4ringsliv & finans\": 0.0941338986158371, \"Olyckor & katastrofer\": 0.12290937453508377, \"Livsstil & fritid\": 0.10637001693248749, \"Politik\": 0.11307289451360703}, \"category\": {\"category_name\": \"Olyckor & katastrofer\", \"category_probability\": 0.12290937453508377}, \"classified_text\": \"\"}'"
      ]
     },
     "execution_count": 14,
     "metadata": {},
     "output_type": "execute_result"
    }
   ],
   "source": [
    "document = {\n",
    "    'body': text,\n",
    "    'categories2': None,\n",
    "    'uuid': None\n",
    "}\n",
    "url = 'http://localhost:8080/invocations'\n",
    "requests.request(\"POST\", url, data=document).text"
   ]
  },
  {
   "cell_type": "markdown",
   "metadata": {
    "slideshow": {
     "slide_type": "subslide"
    }
   },
   "source": [
    "### Stop the server"
   ]
  },
  {
   "cell_type": "code",
   "execution_count": 15,
   "metadata": {
    "slideshow": {
     "slide_type": "fragment"
    }
   },
   "outputs": [],
   "source": [
    "app_process.terminate()\n",
    "app_process.join()"
   ]
  },
  {
   "cell_type": "code",
   "execution_count": null,
   "metadata": {},
   "outputs": [],
   "source": []
  }
 ],
 "metadata": {
  "celltoolbar": "Slideshow",
  "kernelspec": {
   "display_name": "Python 3",
   "language": "python",
   "name": "python3"
  },
  "language_info": {
   "codemirror_mode": {
    "name": "ipython",
    "version": 3
   },
   "file_extension": ".py",
   "mimetype": "text/x-python",
   "name": "python",
   "nbconvert_exporter": "python",
   "pygments_lexer": "ipython3",
   "version": "3.5.2"
  }
 },
 "nbformat": 4,
 "nbformat_minor": 2
}
