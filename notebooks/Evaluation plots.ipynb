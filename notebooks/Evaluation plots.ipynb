{
 "cells": [
  {
   "cell_type": "code",
   "execution_count": 5,
   "metadata": {
    "ExecuteTime": {
     "end_time": "2019-05-14T11:36:57.467582Z",
     "start_time": "2019-05-14T11:36:32.601685Z"
    }
   },
   "outputs": [
    {
     "name": "stdout",
     "output_type": "stream",
     "text": [
      "Collecting plotly\n",
      "  Downloading https://files.pythonhosted.org/packages/3c/7e/bafb51ecd654a16f593beceb8e4e4069e33fccf47a3d071e0ef9b821a694/plotly-3.9.0-py2.py3-none-any.whl (41.2MB)\n",
      "\u001b[K    100% |████████████████████████████████| 41.2MB 36kB/s eta 0:00:011    79% |█████████████████████████▎      | 32.5MB 2.9MB/s eta 0:00:03\n",
      "\u001b[?25hRequirement already satisfied (use --upgrade to upgrade): pandas in /home/johlin/Documents/Projects/auto-categorizer/venv/lib/python3.5/site-packages\n",
      "Requirement already satisfied (use --upgrade to upgrade): decorator>=4.0.6 in /home/johlin/Documents/Projects/auto-categorizer/venv/lib/python3.5/site-packages (from plotly)\n",
      "Requirement already satisfied (use --upgrade to upgrade): nbformat>=4.2 in /home/johlin/Documents/Projects/auto-categorizer/venv/lib/python3.5/site-packages (from plotly)\n",
      "Requirement already satisfied (use --upgrade to upgrade): pytz in /home/johlin/Documents/Projects/auto-categorizer/venv/lib/python3.5/site-packages (from plotly)\n",
      "Requirement already satisfied (use --upgrade to upgrade): six in /home/johlin/Documents/Projects/auto-categorizer/venv/lib/python3.5/site-packages (from plotly)\n",
      "Collecting retrying>=1.3.3 (from plotly)\n",
      "  Downloading https://files.pythonhosted.org/packages/44/ef/beae4b4ef80902f22e3af073397f079c96969c69b2c7d52a57ea9ae61c9d/retrying-1.3.3.tar.gz\n",
      "Requirement already satisfied (use --upgrade to upgrade): requests in /home/johlin/Documents/Projects/auto-categorizer/venv/lib/python3.5/site-packages (from plotly)\n",
      "Requirement already satisfied (use --upgrade to upgrade): python-dateutil>=2.5.0 in /home/johlin/Documents/Projects/auto-categorizer/venv/lib/python3.5/site-packages (from pandas)\n",
      "Requirement already satisfied (use --upgrade to upgrade): numpy>=1.9.0 in /home/johlin/Documents/Projects/auto-categorizer/venv/lib/python3.5/site-packages (from pandas)\n",
      "Requirement already satisfied (use --upgrade to upgrade): jupyter-core in /home/johlin/Documents/Projects/auto-categorizer/venv/lib/python3.5/site-packages (from nbformat>=4.2->plotly)\n",
      "Requirement already satisfied (use --upgrade to upgrade): traitlets>=4.1 in /home/johlin/Documents/Projects/auto-categorizer/venv/lib/python3.5/site-packages (from nbformat>=4.2->plotly)\n",
      "Requirement already satisfied (use --upgrade to upgrade): jsonschema!=2.5.0,>=2.4 in /home/johlin/Documents/Projects/auto-categorizer/venv/lib/python3.5/site-packages (from nbformat>=4.2->plotly)\n",
      "Requirement already satisfied (use --upgrade to upgrade): ipython-genutils in /home/johlin/Documents/Projects/auto-categorizer/venv/lib/python3.5/site-packages (from nbformat>=4.2->plotly)\n",
      "Requirement already satisfied (use --upgrade to upgrade): chardet<3.1.0,>=3.0.2 in /home/johlin/Documents/Projects/auto-categorizer/venv/lib/python3.5/site-packages (from requests->plotly)\n",
      "Requirement already satisfied (use --upgrade to upgrade): idna<2.8,>=2.5 in /home/johlin/Documents/Projects/auto-categorizer/venv/lib/python3.5/site-packages (from requests->plotly)\n",
      "Requirement already satisfied (use --upgrade to upgrade): certifi>=2017.4.17 in /home/johlin/Documents/Projects/auto-categorizer/venv/lib/python3.5/site-packages (from requests->plotly)\n",
      "Requirement already satisfied (use --upgrade to upgrade): urllib3<1.24,>=1.21.1 in /home/johlin/Documents/Projects/auto-categorizer/venv/lib/python3.5/site-packages (from requests->plotly)\n",
      "Building wheels for collected packages: retrying\n",
      "  Running setup.py bdist_wheel for retrying ... \u001b[?25ldone\n",
      "\u001b[?25h  Stored in directory: /home/johlin/.cache/pip/wheels/d7/a9/33/acc7b709e2a35caa7d4cae442f6fe6fbf2c43f80823d46460c\n",
      "Successfully built retrying\n",
      "Installing collected packages: retrying, plotly\n",
      "Successfully installed plotly-3.9.0 retrying-1.3.3\n",
      "\u001b[33mYou are using pip version 8.1.1, however version 19.1.1 is available.\n",
      "You should consider upgrading via the 'pip install --upgrade pip' command.\u001b[0m\n"
     ]
    }
   ],
   "source": [
    "!pip install plotly pandas"
   ]
  },
  {
   "cell_type": "code",
   "execution_count": 63,
   "metadata": {
    "ExecuteTime": {
     "end_time": "2019-05-15T06:23:08.477385Z",
     "start_time": "2019-05-15T06:23:08.466750Z"
    }
   },
   "outputs": [
    {
     "data": {
      "text/html": [
       "        <script type=\"text/javascript\">\n",
       "        window.PlotlyConfig = {MathJaxConfig: 'local'};\n",
       "        if (window.MathJax) {MathJax.Hub.Config({SVG: {font: \"STIX-Web\"}});}\n",
       "        if (typeof require !== 'undefined') {\n",
       "        require.undef(\"plotly\");\n",
       "        requirejs.config({\n",
       "            paths: {\n",
       "                'plotly': ['https://cdn.plot.ly/plotly-latest.min']\n",
       "            }\n",
       "        });\n",
       "        require(['plotly'], function(Plotly) {\n",
       "            window._Plotly = Plotly;\n",
       "        });\n",
       "        }\n",
       "        </script>\n",
       "        "
      ]
     },
     "metadata": {},
     "output_type": "display_data"
    }
   ],
   "source": [
    "import pandas\n",
    "\n",
    "import plotly.offline as py\n",
    "import plotly.graph_objs as go\n",
    "py.init_notebook_mode(connected=True)"
   ]
  },
  {
   "cell_type": "code",
   "execution_count": 64,
   "metadata": {
    "ExecuteTime": {
     "end_time": "2019-05-15T06:23:08.993431Z",
     "start_time": "2019-05-15T06:23:08.988530Z"
    }
   },
   "outputs": [],
   "source": [
    "data = [[float(v) for v in values.split(',')[1:]]\n",
    "        for values in open('../client_stats.txt', 'r').read().split('\\n') if values]"
   ]
  },
  {
   "cell_type": "code",
   "execution_count": 65,
   "metadata": {
    "ExecuteTime": {
     "end_time": "2019-05-15T06:23:09.366650Z",
     "start_time": "2019-05-15T06:23:09.358805Z"
    }
   },
   "outputs": [],
   "source": [
    "stds = [np.std(values) for values in data]\n",
    "avgs = [np.mean(values) for values in data]"
   ]
  },
  {
   "cell_type": "code",
   "execution_count": 66,
   "metadata": {
    "ExecuteTime": {
     "end_time": "2019-05-15T06:23:09.925252Z",
     "start_time": "2019-05-15T06:23:09.748353Z"
    }
   },
   "outputs": [
    {
     "data": {
      "application/vnd.plotly.v1+json": {
       "config": {
        "linkText": "Export to plot.ly",
        "plotlyServerURL": "https://plot.ly",
        "responsive": true,
        "showLink": false
       },
       "data": [
        {
         "error_y": {
          "array": [
           0.0033632615498929005,
           0.008865811031034098,
           0.014643943867052705,
           0.05329985569648704,
           0.023925227896450484,
           0.07210585681284223,
           0.09354684868748223,
           0.16118890812077358,
           0.17656529344701893,
           0.19772069055642927,
           0.22342914970661978,
           0.2904112172167797,
           0.3562100316062726,
           0.5156684434241985,
           0.5578749566744545,
           0.5696305311407848,
           0.7570227026821347,
           0.7671374438001913
          ],
          "type": "data"
         },
         "type": "scatter",
         "uid": "896df8b5-f760-4090-a810-9a940cb539b0",
         "x": [
          0,
          10,
          20,
          30,
          40,
          50,
          60,
          70,
          80,
          90,
          100,
          110,
          120,
          130,
          140,
          150,
          160,
          170
         ],
         "y": [
          0.16424226704949663,
          0.32001334867801967,
          0.5608635811164139,
          0.5753214115644539,
          0.853056232488369,
          1.2454201957937014,
          1.6547181612874327,
          2.2004367676968313,
          2.677831369303586,
          2.941879736855375,
          3.4637765107898537,
          3.9450802849788293,
          4.5060838097441716,
          5.137966064526309,
          5.790155947875123,
          6.260158226175128,
          6.983837983311986,
          7.65943970826751
         ]
        }
       ],
       "layout": {
        "title": {
         "text": "Process time of concurrent requests"
        },
        "xaxis": {
         "title": {
          "text": "Nr of concurrent clients (rps)"
         }
        },
        "yaxis": {
         "title": {
          "text": "Process time (second)"
         }
        }
       }
      },
      "text/html": [
       "<div>\n",
       "        \n",
       "        \n",
       "            <div id=\"a8f0c2aa-419f-4347-a506-c464d32a3df9\" class=\"plotly-graph-div\" style=\"height:525px; width:100%;\"></div>\n",
       "            <script type=\"text/javascript\">\n",
       "                require([\"plotly\"], function(Plotly) {\n",
       "                    window.PLOTLYENV=window.PLOTLYENV || {};\n",
       "                    window.PLOTLYENV.BASE_URL='https://plot.ly';\n",
       "                    \n",
       "                if (document.getElementById(\"a8f0c2aa-419f-4347-a506-c464d32a3df9\")) {\n",
       "                    Plotly.newPlot(\n",
       "                        'a8f0c2aa-419f-4347-a506-c464d32a3df9',\n",
       "                        [{\"error_y\": {\"array\": [0.0033632615498929005, 0.008865811031034098, 0.014643943867052705, 0.05329985569648704, 0.023925227896450484, 0.07210585681284223, 0.09354684868748223, 0.16118890812077358, 0.17656529344701893, 0.19772069055642927, 0.22342914970661978, 0.2904112172167797, 0.3562100316062726, 0.5156684434241985, 0.5578749566744545, 0.5696305311407848, 0.7570227026821347, 0.7671374438001913], \"type\": \"data\"}, \"type\": \"scatter\", \"uid\": \"289b6048-a4ba-4666-b922-d4598e7b25e3\", \"x\": [0, 10, 20, 30, 40, 50, 60, 70, 80, 90, 100, 110, 120, 130, 140, 150, 160, 170], \"y\": [0.16424226704949663, 0.32001334867801967, 0.5608635811164139, 0.5753214115644539, 0.853056232488369, 1.2454201957937014, 1.6547181612874327, 2.2004367676968313, 2.677831369303586, 2.941879736855375, 3.4637765107898537, 3.9450802849788293, 4.5060838097441716, 5.137966064526309, 5.790155947875123, 6.260158226175128, 6.983837983311986, 7.65943970826751]}],\n",
       "                        {\"title\": {\"text\": \"Process time of concurrent requests\"}, \"xaxis\": {\"title\": {\"text\": \"Nr of concurrent clients (rps)\"}}, \"yaxis\": {\"title\": {\"text\": \"Process time (second)\"}}},\n",
       "                        {\"plotlyServerURL\": \"https://plot.ly\", \"linkText\": \"Export to plot.ly\", \"responsive\": true, \"showLink\": false}\n",
       "                    ).then(function(){\n",
       "                            \n",
       "var gd = document.getElementById('a8f0c2aa-419f-4347-a506-c464d32a3df9');\n",
       "var x = new MutationObserver(function (mutations, observer) {{\n",
       "        var display = window.getComputedStyle(gd).display;\n",
       "        if (!display || display === 'none') {{\n",
       "            console.log([gd, 'removed!']);\n",
       "            Plotly.purge(gd);\n",
       "            observer.disconnect();\n",
       "        }}\n",
       "}});\n",
       "\n",
       "// Listen for the removal of the full notebook cells\n",
       "var notebookContainer = gd.closest('#notebook-container');\n",
       "if (notebookContainer) {{\n",
       "    x.observe(notebookContainer, {childList: true});\n",
       "}}\n",
       "\n",
       "// Listen for the clearing of the current output cell\n",
       "var outputEl = gd.closest('.output');\n",
       "if (outputEl) {{\n",
       "    x.observe(outputEl, {childList: true});\n",
       "}}\n",
       "\n",
       "                        })\n",
       "                };\n",
       "                });\n",
       "            </script>\n",
       "        </div>"
      ]
     },
     "metadata": {},
     "output_type": "display_data"
    }
   ],
   "source": [
    "# Create a trace\n",
    "trace = go.Scatter(\n",
    "    x = [i * 10 for i, a in enumerate(avgs)],\n",
    "    y = avgs,\n",
    "    error_y=dict(\n",
    "        type='data',\n",
    "        array=stds\n",
    "    )\n",
    ")\n",
    "\n",
    "data = [trace]\n",
    "layout = go.Layout(\n",
    "    title='Process time of concurrent requests',\n",
    "    xaxis=dict(title='Nr of concurrent clients (rps)'),\n",
    "    yaxis=dict(title='Process time (second)'),\n",
    ")\n",
    "\n",
    "fig = go.Figure(data=data, layout=layout)\n",
    "py.iplot(fig, filename='basic-line')"
   ]
  },
  {
   "cell_type": "code",
   "execution_count": 67,
   "metadata": {
    "ExecuteTime": {
     "end_time": "2019-05-15T06:23:10.903435Z",
     "start_time": "2019-05-15T06:23:10.896834Z"
    }
   },
   "outputs": [],
   "source": [
    "data = [[float(v) for v in values.split(',')[1:]]\n",
    "        for values in open('../body_size_stats.txt', 'r').read().split('\\n') if values]"
   ]
  },
  {
   "cell_type": "code",
   "execution_count": 68,
   "metadata": {
    "ExecuteTime": {
     "end_time": "2019-05-15T06:23:11.807648Z",
     "start_time": "2019-05-15T06:23:11.802702Z"
    }
   },
   "outputs": [],
   "source": [
    "stds = [np.std(values) for values in data]\n",
    "avgs = [np.mean(values) for values in data]"
   ]
  },
  {
   "cell_type": "code",
   "execution_count": 69,
   "metadata": {
    "ExecuteTime": {
     "end_time": "2019-05-15T06:23:12.619557Z",
     "start_time": "2019-05-15T06:23:12.363925Z"
    }
   },
   "outputs": [
    {
     "data": {
      "application/vnd.plotly.v1+json": {
       "config": {
        "linkText": "Export to plot.ly",
        "plotlyServerURL": "https://plot.ly",
        "responsive": true,
        "showLink": false
       },
       "data": [
        {
         "error_y": {
          "array": [
           0.005493896065359042,
           0.0064510458093391815,
           0.007270184486434307,
           0.006043368874825321,
           0.007136225553504609,
           0.006405136429629514,
           0.008721294269611336,
           0.010966086968455857,
           0.005940654757247853,
           0.007518636703591208,
           0.007713870705023557,
           0.012693101156129642,
           0.00988529059933333,
           0.006233219825460143,
           0.005442825928190112,
           0.0060177996939959405,
           0.006631028350340553,
           0.01103393921020527,
           0.008030262531886921,
           0.009022439042021603,
           0.0074068121219991205,
           0.009183069925196461,
           0.006545744531724968,
           0.005285920202843043,
           0.005593250938177033,
           0.004419441976058911,
           0.012780768607157855,
           0.006773585916473474,
           0.006619872100618272,
           0.005931406856536599
          ],
          "type": "data"
         },
         "type": "scatter",
         "uid": "3a75e33d-b2b5-4c8e-8a2d-848aea1aa27e",
         "x": [
          1000,
          2000,
          3000,
          4000,
          5000,
          6000,
          7000,
          8000,
          9000,
          10000,
          11000,
          12000,
          13000,
          14000,
          15000,
          16000,
          17000,
          18000,
          19000,
          20000,
          21000,
          22000,
          23000,
          24000,
          25000,
          26000,
          27000,
          28000,
          29000,
          30000
         ],
         "y": [
          0.038534068693065276,
          0.042218074516908025,
          0.04292467633030445,
          0.045586151619480084,
          0.04501609651892035,
          0.04634133091679326,
          0.04907853229373109,
          0.05315141855402196,
          0.053927699939624686,
          0.0549674099618262,
          0.05460826295321105,
          0.059215964650261334,
          0.05160054840992406,
          0.04572096916094218,
          0.04610480800751717,
          0.04714622475066275,
          0.048542567827169175,
          0.050400773684183754,
          0.05397968034486513,
          0.057171904700142995,
          0.05664870007471605,
          0.06093283978904166,
          0.057599483886895154,
          0.058155761208645136,
          0.06062562971404104,
          0.06138944625854492,
          0.06382467655035165,
          0.06471105829461829,
          0.0661175645739827,
          0.06713327785466341
         ]
        }
       ],
       "layout": {
        "title": {
         "text": "Process time of document lengths"
        },
        "xaxis": {
         "title": {
          "text": "Document length to categorize in characters"
         }
        },
        "yaxis": {
         "title": {
          "text": "Process time (second)"
         }
        }
       }
      },
      "text/html": [
       "<div>\n",
       "        \n",
       "        \n",
       "            <div id=\"48639f20-637c-4380-b808-ed56251f0a9a\" class=\"plotly-graph-div\" style=\"height:525px; width:100%;\"></div>\n",
       "            <script type=\"text/javascript\">\n",
       "                require([\"plotly\"], function(Plotly) {\n",
       "                    window.PLOTLYENV=window.PLOTLYENV || {};\n",
       "                    window.PLOTLYENV.BASE_URL='https://plot.ly';\n",
       "                    \n",
       "                if (document.getElementById(\"48639f20-637c-4380-b808-ed56251f0a9a\")) {\n",
       "                    Plotly.newPlot(\n",
       "                        '48639f20-637c-4380-b808-ed56251f0a9a',\n",
       "                        [{\"error_y\": {\"array\": [0.005493896065359042, 0.0064510458093391815, 0.007270184486434307, 0.006043368874825321, 0.007136225553504609, 0.006405136429629514, 0.008721294269611336, 0.010966086968455857, 0.005940654757247853, 0.007518636703591208, 0.007713870705023557, 0.012693101156129642, 0.00988529059933333, 0.006233219825460143, 0.005442825928190112, 0.0060177996939959405, 0.006631028350340553, 0.01103393921020527, 0.008030262531886921, 0.009022439042021603, 0.0074068121219991205, 0.009183069925196461, 0.006545744531724968, 0.005285920202843043, 0.005593250938177033, 0.004419441976058911, 0.012780768607157855, 0.006773585916473474, 0.006619872100618272, 0.005931406856536599], \"type\": \"data\"}, \"type\": \"scatter\", \"uid\": \"f6783728-b37b-4f55-8bca-b7289d695b88\", \"x\": [1000, 2000, 3000, 4000, 5000, 6000, 7000, 8000, 9000, 10000, 11000, 12000, 13000, 14000, 15000, 16000, 17000, 18000, 19000, 20000, 21000, 22000, 23000, 24000, 25000, 26000, 27000, 28000, 29000, 30000], \"y\": [0.038534068693065276, 0.042218074516908025, 0.04292467633030445, 0.045586151619480084, 0.04501609651892035, 0.04634133091679326, 0.04907853229373109, 0.05315141855402196, 0.053927699939624686, 0.0549674099618262, 0.05460826295321105, 0.059215964650261334, 0.05160054840992406, 0.04572096916094218, 0.04610480800751717, 0.04714622475066275, 0.048542567827169175, 0.050400773684183754, 0.05397968034486513, 0.057171904700142995, 0.05664870007471605, 0.06093283978904166, 0.057599483886895154, 0.058155761208645136, 0.06062562971404104, 0.06138944625854492, 0.06382467655035165, 0.06471105829461829, 0.0661175645739827, 0.06713327785466341]}],\n",
       "                        {\"title\": {\"text\": \"Process time of document lengths\"}, \"xaxis\": {\"title\": {\"text\": \"Document length to categorize in characters\"}}, \"yaxis\": {\"title\": {\"text\": \"Process time (second)\"}}},\n",
       "                        {\"plotlyServerURL\": \"https://plot.ly\", \"linkText\": \"Export to plot.ly\", \"responsive\": true, \"showLink\": false}\n",
       "                    ).then(function(){\n",
       "                            \n",
       "var gd = document.getElementById('48639f20-637c-4380-b808-ed56251f0a9a');\n",
       "var x = new MutationObserver(function (mutations, observer) {{\n",
       "        var display = window.getComputedStyle(gd).display;\n",
       "        if (!display || display === 'none') {{\n",
       "            console.log([gd, 'removed!']);\n",
       "            Plotly.purge(gd);\n",
       "            observer.disconnect();\n",
       "        }}\n",
       "}});\n",
       "\n",
       "// Listen for the removal of the full notebook cells\n",
       "var notebookContainer = gd.closest('#notebook-container');\n",
       "if (notebookContainer) {{\n",
       "    x.observe(notebookContainer, {childList: true});\n",
       "}}\n",
       "\n",
       "// Listen for the clearing of the current output cell\n",
       "var outputEl = gd.closest('.output');\n",
       "if (outputEl) {{\n",
       "    x.observe(outputEl, {childList: true});\n",
       "}}\n",
       "\n",
       "                        })\n",
       "                };\n",
       "                });\n",
       "            </script>\n",
       "        </div>"
      ]
     },
     "metadata": {},
     "output_type": "display_data"
    }
   ],
   "source": [
    "# Create a trace\n",
    "trace = go.Scatter(\n",
    "    x = [i * 1000 + 1000 for i, a in enumerate(avgs)],\n",
    "    y = avgs,\n",
    "    error_y=dict(\n",
    "        type='data',\n",
    "        array=stds\n",
    "    )\n",
    ")\n",
    "\n",
    "data = [trace]\n",
    "layout = go.Layout(\n",
    "    title='Process time of document lengths',\n",
    "    xaxis=dict(title='Document length to categorize in characters'),\n",
    "    yaxis=dict(title='Process time (second)'),\n",
    ")\n",
    "\n",
    "fig = go.Figure(data=data, layout=layout)\n",
    "py.iplot(fig, filename='basic-line')"
   ]
  },
  {
   "cell_type": "code",
   "execution_count": 70,
   "metadata": {
    "ExecuteTime": {
     "end_time": "2019-05-15T06:23:13.221708Z",
     "start_time": "2019-05-15T06:23:13.216848Z"
    }
   },
   "outputs": [],
   "source": [
    "data = [[float(v) * 15 / 3600 for v in values.split(',')[1:]]\n",
    "        for values in open('../training_vector_size_stats.txt', 'r').read().split('\\n') if values]"
   ]
  },
  {
   "cell_type": "code",
   "execution_count": 71,
   "metadata": {
    "ExecuteTime": {
     "end_time": "2019-05-15T06:23:13.820545Z",
     "start_time": "2019-05-15T06:23:13.816540Z"
    }
   },
   "outputs": [],
   "source": [
    "stds = [np.std(values) for values in data]\n",
    "vmin = [min(values) for values in data]\n",
    "vmax = [max(values) for values in data]\n",
    "avgs = [np.mean(values) for values in data]"
   ]
  },
  {
   "cell_type": "code",
   "execution_count": 72,
   "metadata": {
    "ExecuteTime": {
     "end_time": "2019-05-15T06:23:14.585786Z",
     "start_time": "2019-05-15T06:23:14.418739Z"
    }
   },
   "outputs": [
    {
     "data": {
      "application/vnd.plotly.v1+json": {
       "config": {
        "linkText": "Export to plot.ly",
        "plotlyServerURL": "https://plot.ly",
        "responsive": true,
        "showLink": false
       },
       "data": [
        {
         "error_y": {
          "array": [
           0.0031223775550206926,
           0.008909833161598999,
           0.005425209502015621,
           0.020817805661824517,
           0.16722183441728014,
           0.18666546987701432
          ],
          "type": "data"
         },
         "type": "scatter",
         "uid": "f152c1aa-08e6-4763-8fbe-c23101caede4",
         "x": [
          100,
          200,
          300,
          400,
          500,
          600
         ],
         "y": [
          0.6351519166181485,
          0.7760263189673424,
          0.9195747554302216,
          1.0600372431178888,
          1.3623951473583777,
          2.0119875513017176
         ]
        }
       ],
       "layout": {
        "title": {
         "text": "Process time of training"
        },
        "xaxis": {
         "title": {
          "text": "Document vector sizes"
         }
        },
        "yaxis": {
         "title": {
          "text": "Process time (hour)"
         }
        }
       }
      },
      "text/html": [
       "<div>\n",
       "        \n",
       "        \n",
       "            <div id=\"ab1d26e8-2c45-4ffa-b4ab-6cf234960d5e\" class=\"plotly-graph-div\" style=\"height:525px; width:100%;\"></div>\n",
       "            <script type=\"text/javascript\">\n",
       "                require([\"plotly\"], function(Plotly) {\n",
       "                    window.PLOTLYENV=window.PLOTLYENV || {};\n",
       "                    window.PLOTLYENV.BASE_URL='https://plot.ly';\n",
       "                    \n",
       "                if (document.getElementById(\"ab1d26e8-2c45-4ffa-b4ab-6cf234960d5e\")) {\n",
       "                    Plotly.newPlot(\n",
       "                        'ab1d26e8-2c45-4ffa-b4ab-6cf234960d5e',\n",
       "                        [{\"error_y\": {\"array\": [0.0031223775550206926, 0.008909833161598999, 0.005425209502015621, 0.020817805661824517, 0.16722183441728014, 0.18666546987701432], \"type\": \"data\"}, \"type\": \"scatter\", \"uid\": \"14c3c04d-c938-4e46-86e8-81f9d51a3e26\", \"x\": [100, 200, 300, 400, 500, 600], \"y\": [0.6351519166181485, 0.7760263189673424, 0.9195747554302216, 1.0600372431178888, 1.3623951473583777, 2.0119875513017176]}],\n",
       "                        {\"title\": {\"text\": \"Process time of training\"}, \"xaxis\": {\"title\": {\"text\": \"Document vector sizes\"}}, \"yaxis\": {\"title\": {\"text\": \"Process time (hour)\"}}},\n",
       "                        {\"plotlyServerURL\": \"https://plot.ly\", \"linkText\": \"Export to plot.ly\", \"responsive\": true, \"showLink\": false}\n",
       "                    ).then(function(){\n",
       "                            \n",
       "var gd = document.getElementById('ab1d26e8-2c45-4ffa-b4ab-6cf234960d5e');\n",
       "var x = new MutationObserver(function (mutations, observer) {{\n",
       "        var display = window.getComputedStyle(gd).display;\n",
       "        if (!display || display === 'none') {{\n",
       "            console.log([gd, 'removed!']);\n",
       "            Plotly.purge(gd);\n",
       "            observer.disconnect();\n",
       "        }}\n",
       "}});\n",
       "\n",
       "// Listen for the removal of the full notebook cells\n",
       "var notebookContainer = gd.closest('#notebook-container');\n",
       "if (notebookContainer) {{\n",
       "    x.observe(notebookContainer, {childList: true});\n",
       "}}\n",
       "\n",
       "// Listen for the clearing of the current output cell\n",
       "var outputEl = gd.closest('.output');\n",
       "if (outputEl) {{\n",
       "    x.observe(outputEl, {childList: true});\n",
       "}}\n",
       "\n",
       "                        })\n",
       "                };\n",
       "                });\n",
       "            </script>\n",
       "        </div>"
      ]
     },
     "metadata": {},
     "output_type": "display_data"
    }
   ],
   "source": [
    "# Create a trace\n",
    "trace = go.Scatter(\n",
    "    x = [i * 100 + 100 for i, a in enumerate(avgs)],\n",
    "    y = avgs,\n",
    "    error_y=dict(\n",
    "        type='data',\n",
    "        array=stds\n",
    "    )\n",
    ")\n",
    "\n",
    "data = [trace]\n",
    "layout = go.Layout(\n",
    "    title='Process time of training',\n",
    "    xaxis=dict(title='Document vector sizes'),\n",
    "    yaxis=dict(title='Process time (hour)'),\n",
    ")\n",
    "\n",
    "fig = go.Figure(data=data, layout=layout)\n",
    "py.iplot(fig, filename='basic-line')"
   ]
  },
  {
   "cell_type": "code",
   "execution_count": null,
   "metadata": {},
   "outputs": [],
   "source": []
  }
 ],
 "metadata": {
  "hide_input": false,
  "kernelspec": {
   "display_name": "Python 3",
   "language": "python",
   "name": "python3"
  },
  "language_info": {
   "codemirror_mode": {
    "name": "ipython",
    "version": 3
   },
   "file_extension": ".py",
   "mimetype": "text/x-python",
   "name": "python",
   "nbconvert_exporter": "python",
   "pygments_lexer": "ipython3",
   "version": "3.5.2"
  },
  "toc": {
   "base_numbering": 1,
   "nav_menu": {},
   "number_sections": true,
   "sideBar": true,
   "skip_h1_title": false,
   "title_cell": "Table of Contents",
   "title_sidebar": "Contents",
   "toc_cell": false,
   "toc_position": {},
   "toc_section_display": true,
   "toc_window_display": false
  },
  "varInspector": {
   "cols": {
    "lenName": 16,
    "lenType": 16,
    "lenVar": 40
   },
   "kernels_config": {
    "python": {
     "delete_cmd_postfix": "",
     "delete_cmd_prefix": "del ",
     "library": "var_list.py",
     "varRefreshCmd": "print(var_dic_list())"
    },
    "r": {
     "delete_cmd_postfix": ") ",
     "delete_cmd_prefix": "rm(",
     "library": "var_list.r",
     "varRefreshCmd": "cat(var_dic_list()) "
    }
   },
   "types_to_exclude": [
    "module",
    "function",
    "builtin_function_or_method",
    "instance",
    "_Feature"
   ],
   "window_display": false
  }
 },
 "nbformat": 4,
 "nbformat_minor": 2
}
